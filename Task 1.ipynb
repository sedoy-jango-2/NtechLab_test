{
 "cells": [
  {
   "cell_type": "markdown",
   "metadata": {},
   "source": [
    "# Задание 1. Программирование\n",
    "\n",
    "## Описание задачи\n",
    "Найти непрерывный подмассив в массиве, содержащий хотя бы одно число,\n",
    "который имеет наибольшую сумму.\n",
    "## Условия\n",
    "Необходимо написать программу с функцией findMaxSubArray(A),\n",
    "принимающей на вход массив целых чисел А ненулевой длины и\n",
    "возвращающей непрерывный подмассив массива А ненулевой длины,\n",
    "который имеет наибольшую сумму среди всех непрерывных\n",
    "подмассивов массива А.\n",
    "Язык программирования: python\n",
    "Использование дополнительных библиотек и функций: не разрешается\n",
    "В качестве решения необходимо прислать ссылку на github.\n",
    "## Пример\n",
    "На вход подается массив [-2,1,-3,4,-1,2,1,-5,4]\n",
    "На выходе функции ожидается массив [4,-1,2,1], имеющий максимальную\n",
    "сумму среди всех подмассивов равную 6.\n",
    "## Решение\n",
    "задача решается с использованием динамического программирования"
   ]
  },
  {
   "cell_type": "code",
   "execution_count": 36,
   "metadata": {},
   "outputs": [
    {
     "name": "stdout",
     "output_type": "stream",
     "text": [
      "[4, -1, 2, 1]\n"
     ]
    }
   ],
   "source": [
    "def findMaxSubArray(A):\n",
    "    sub_array_sums = [0 for i in range(len(A))]\n",
    "    sub_arrays = [[0] for i in range(len(A))]\n",
    "    \n",
    "    sub_array_sums[0] = A[0]\n",
    "    sub_arrays[0] = [A[0]]\n",
    "    single_sub_array = []\n",
    "    \n",
    "    for i in range(1, len(A)):\n",
    "        sub_array_sums[i] = max(sub_array_sums[i-1] + A[i], A[i])\n",
    "        \n",
    "        if sub_array_sums[i] > sub_array_sums[i-1]:\n",
    "            single_sub_array.append(A[i])\n",
    "        else:\n",
    "            single_sub_array.clear()\n",
    "            single_sub_array.append(A[i - 1])\n",
    "            single_sub_array.append(A[i])\n",
    "        \n",
    "        sub_arrays[i] = subA.copy()\n",
    "    return sub_arrays[sub_array_sums.index(max(sub_array_sums))]\n",
    "\n",
    "A = [-2,1,-3,4,-1,2,1,-5,4]\n",
    "\n",
    "print(findMaxSubArray(A))"
   ]
  },
  {
   "cell_type": "code",
   "execution_count": null,
   "metadata": {},
   "outputs": [],
   "source": []
  }
 ],
 "metadata": {
  "kernelspec": {
   "display_name": "Python 3",
   "language": "python",
   "name": "python3"
  },
  "language_info": {
   "codemirror_mode": {
    "name": "ipython",
    "version": 3
   },
   "file_extension": ".py",
   "mimetype": "text/x-python",
   "name": "python",
   "nbconvert_exporter": "python",
   "pygments_lexer": "ipython3",
   "version": "3.7.3"
  }
 },
 "nbformat": 4,
 "nbformat_minor": 2
}
